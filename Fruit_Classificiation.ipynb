{
  "nbformat": 4,
  "nbformat_minor": 0,
  "metadata": {
    "colab": {
      "name": "Fruit_Classificiation",
      "provenance": [],
      "authorship_tag": "ABX9TyMBkDopXOhQMK9ywlFgziyX",
      "include_colab_link": true
    },
    "kernelspec": {
      "name": "python3",
      "display_name": "Python 3"
    },
    "language_info": {
      "name": "python"
    }
  },
  "cells": [
    {
      "cell_type": "markdown",
      "metadata": {
        "id": "view-in-github",
        "colab_type": "text"
      },
      "source": [
        "<a href=\"https://colab.research.google.com/github/Orixtosius/Computer-Vision-Exercises/blob/main/Fruit_Classificiation.ipynb\" target=\"_parent\"><img src=\"https://colab.research.google.com/assets/colab-badge.svg\" alt=\"Open In Colab\"/></a>"
      ]
    },
    {
      "cell_type": "markdown",
      "source": [
        "## Getting Data From Kaggle"
      ],
      "metadata": {
        "id": "usS7NVCRrAyn"
      }
    },
    {
      "cell_type": "code",
      "execution_count": 1,
      "metadata": {
        "colab": {
          "base_uri": "https://localhost:8080/"
        },
        "id": "enUqjmyMoTtR",
        "outputId": "4dea2c69-f0a4-4f6c-c665-baa85e7ecefd"
      },
      "outputs": [
        {
          "output_type": "stream",
          "name": "stdout",
          "text": [
            "Looking in indexes: https://pypi.org/simple, https://us-python.pkg.dev/colab-wheels/public/simple/\n",
            "Requirement already satisfied: kaggle in /usr/local/lib/python3.7/dist-packages (1.5.12)\n",
            "Requirement already satisfied: python-slugify in /usr/local/lib/python3.7/dist-packages (from kaggle) (6.1.2)\n",
            "Requirement already satisfied: urllib3 in /usr/local/lib/python3.7/dist-packages (from kaggle) (1.24.3)\n",
            "Requirement already satisfied: six>=1.10 in /usr/local/lib/python3.7/dist-packages (from kaggle) (1.15.0)\n",
            "Requirement already satisfied: tqdm in /usr/local/lib/python3.7/dist-packages (from kaggle) (4.64.0)\n",
            "Requirement already satisfied: python-dateutil in /usr/local/lib/python3.7/dist-packages (from kaggle) (2.8.2)\n",
            "Requirement already satisfied: requests in /usr/local/lib/python3.7/dist-packages (from kaggle) (2.23.0)\n",
            "Requirement already satisfied: certifi in /usr/local/lib/python3.7/dist-packages (from kaggle) (2022.6.15)\n",
            "Requirement already satisfied: text-unidecode>=1.3 in /usr/local/lib/python3.7/dist-packages (from python-slugify->kaggle) (1.3)\n",
            "Requirement already satisfied: chardet<4,>=3.0.2 in /usr/local/lib/python3.7/dist-packages (from requests->kaggle) (3.0.4)\n",
            "Requirement already satisfied: idna<3,>=2.5 in /usr/local/lib/python3.7/dist-packages (from requests->kaggle) (2.10)\n"
          ]
        }
      ],
      "source": [
        "! pip install kaggle\n",
        "! mkdir ~/.kaggle\n",
        "! cp kaggle.json ~/.kaggle/\n",
        "! chmod 600 ~/.kaggle/kaggle.json"
      ]
    },
    {
      "cell_type": "code",
      "source": [
        "! kaggle datasets download moltean/fruits"
      ],
      "metadata": {
        "colab": {
          "base_uri": "https://localhost:8080/"
        },
        "id": "nPeUfVOGq9UB",
        "outputId": "17944557-e911-467f-e3e9-e1d1a3d8f119"
      },
      "execution_count": 2,
      "outputs": [
        {
          "output_type": "stream",
          "name": "stdout",
          "text": [
            "Downloading fruits.zip to /content\n",
            " 99% 1.27G/1.28G [00:21<00:00, 52.5MB/s]\n",
            "100% 1.28G/1.28G [00:21<00:00, 65.1MB/s]\n"
          ]
        }
      ]
    },
    {
      "cell_type": "code",
      "source": [
        "! unzip fruits.zip"
      ],
      "metadata": {
        "id": "P7ij8D7gq_mI"
      },
      "execution_count": null,
      "outputs": []
    },
    {
      "cell_type": "markdown",
      "source": [
        "## Dataset Manipulations"
      ],
      "metadata": {
        "id": "h1neAVb6v5hN"
      }
    },
    {
      "cell_type": "code",
      "source": [
        "import os"
      ],
      "metadata": {
        "id": "tqOviRIRv-aC"
      },
      "execution_count": 6,
      "outputs": []
    },
    {
      "cell_type": "code",
      "source": [
        "def makeDirectory(path):\n",
        "  if not os.path.exists(path):\n",
        "    os.mkdir(path)\n",
        "\n",
        "def link(src, dst):\n",
        "  if not os.path.exists(dst):\n",
        "    os.symlink(src, dst, target_is_directory=True)"
      ],
      "metadata": {
        "id": "LgwabC90wHEE"
      },
      "execution_count": 7,
      "outputs": []
    },
    {
      "cell_type": "code",
      "source": [
        "makeDirectory(\"/content/small-fruits-360-ds\")"
      ],
      "metadata": {
        "id": "LqYJyieQwlsR"
      },
      "execution_count": 9,
      "outputs": []
    },
    {
      "cell_type": "code",
      "source": [
        "classes = [\n",
        "  'Apple Golden 1',\n",
        "  'Avocado',\n",
        "  'Lemon',\n",
        "  'Mango',\n",
        "  'Kiwi',\n",
        "  'Banana',\n",
        "  'Strawberry',\n",
        "  'Raspberry'\n",
        "]"
      ],
      "metadata": {
        "id": "P1ed3oLIxMuP"
      },
      "execution_count": 10,
      "outputs": []
    },
    {
      "cell_type": "code",
      "source": [
        "train_path_from = os.path.abspath(\"/content/fruits-360_dataset/fruits-360/Training\")\n",
        "test_path_from = os.path.abspath(\"/content/fruits-360_dataset/fruits-360/Test\")\n",
        "\n",
        "train_path_to = os.path.abspath(\"/content/small-fruits-360-ds/Training\")\n",
        "test_path_to = os.path.abspath(\"/content/small-fruits-360-ds/Test\")\n",
        "\n",
        "makeDirectory(train_path_to)\n",
        "makeDirectory(test_path_to)\n",
        "\n",
        "for c in classes:\n",
        "  link(train_path_from + '/' + c, train_path_to + '/' + c)\n",
        "  link(test_path_from + '/' + c, test_path_to + '/' + c)"
      ],
      "metadata": {
        "id": "biYWnVFVxfbF"
      },
      "execution_count": 11,
      "outputs": []
    },
    {
      "cell_type": "markdown",
      "source": [
        "## Model Building"
      ],
      "metadata": {
        "id": "JAidMNq5ybRv"
      }
    },
    {
      "cell_type": "code",
      "source": [
        "from keras.models import Model\n",
        "from keras.layers import Dense, Input, Lambda, Flatten\n",
        "from keras.applications.vgg16 import VGG16, preprocess_input\n",
        "from keras.preprocessing import image\n",
        "from keras.preprocessing.image import ImageDataGenerator\n",
        "from sklearn.metrics import confusion_matrix\n",
        "import numpy as np\n",
        "import matplotlib.pyplot as plt\n",
        "from glob import glob"
      ],
      "metadata": {
        "id": "D-UTqbX-uEfq"
      },
      "execution_count": 4,
      "outputs": []
    },
    {
      "cell_type": "code",
      "source": [
        "IMAGE_SIZE = [100, 100]\n",
        "IMAGE_SIZE_RGB = IMAGE_SIZE + [3]\n",
        "EPOCHS = 5\n",
        "BATCH_SIZE = 32"
      ],
      "metadata": {
        "id": "E-719fq6vaWF"
      },
      "execution_count": 26,
      "outputs": []
    },
    {
      "cell_type": "code",
      "source": [
        "train_path = '/content/small-fruits-360-ds/Training'\n",
        "test_path = '/content/small-fruits-360-ds/Test'"
      ],
      "metadata": {
        "id": "2IVtVSkivoi8"
      },
      "execution_count": 12,
      "outputs": []
    },
    {
      "cell_type": "code",
      "source": [
        "training_image_files = glob(train_path + '/*/*.jp*g')\n",
        "test_image_files = glob(test_path + '/*/*.jp*g')\n",
        "print(f'Training\\n{training_image_files[:5]}\\nTest\\n{test_image_files[:5]}')"
      ],
      "metadata": {
        "colab": {
          "base_uri": "https://localhost:8080/"
        },
        "id": "moq-Cn6Wyrb4",
        "outputId": "730ae912-2695-4763-f1b9-e62d30a4206b"
      },
      "execution_count": 16,
      "outputs": [
        {
          "output_type": "stream",
          "name": "stdout",
          "text": [
            "Training\n",
            "['/content/small-fruits-360-ds/Training/Mango/r_301_100.jpg', '/content/small-fruits-360-ds/Training/Mango/r_324_100.jpg', '/content/small-fruits-360-ds/Training/Mango/220_100.jpg', '/content/small-fruits-360-ds/Training/Mango/96_100.jpg', '/content/small-fruits-360-ds/Training/Mango/r_76_100.jpg']\n",
            "Test\n",
            "['/content/small-fruits-360-ds/Test/Mango/r_323_100.jpg', '/content/small-fruits-360-ds/Test/Mango/r_266_100.jpg', '/content/small-fruits-360-ds/Test/Mango/r_245_100.jpg', '/content/small-fruits-360-ds/Test/Mango/r_212_100.jpg', '/content/small-fruits-360-ds/Test/Mango/r_322_100.jpg']\n"
          ]
        }
      ]
    },
    {
      "cell_type": "code",
      "source": [
        "folders = glob(train_path + '/*')\n",
        "folders"
      ],
      "metadata": {
        "colab": {
          "base_uri": "https://localhost:8080/"
        },
        "id": "X-r09MEBzADd",
        "outputId": "e7e2b69e-66c2-4ba7-c0d4-45ed4a12bd96"
      },
      "execution_count": 17,
      "outputs": [
        {
          "output_type": "execute_result",
          "data": {
            "text/plain": [
              "['/content/small-fruits-360-ds/Training/Mango',\n",
              " '/content/small-fruits-360-ds/Training/Kiwi',\n",
              " '/content/small-fruits-360-ds/Training/Lemon',\n",
              " '/content/small-fruits-360-ds/Training/Apple Golden 1',\n",
              " '/content/small-fruits-360-ds/Training/Strawberry',\n",
              " '/content/small-fruits-360-ds/Training/Raspberry',\n",
              " '/content/small-fruits-360-ds/Training/Banana',\n",
              " '/content/small-fruits-360-ds/Training/Avocado']"
            ]
          },
          "metadata": {},
          "execution_count": 17
        }
      ]
    },
    {
      "cell_type": "code",
      "source": [
        "x = np.random.choice(training_image_files)\n",
        "plt.title(x.split('/')[-2])\n",
        "plt.imshow(image.load_img(x))"
      ],
      "metadata": {
        "colab": {
          "base_uri": "https://localhost:8080/",
          "height": 298
        },
        "id": "1FuIOHKJzN5C",
        "outputId": "d33e8dc3-d093-46a3-9683-f6793a9f4458"
      },
      "execution_count": 25,
      "outputs": [
        {
          "output_type": "execute_result",
          "data": {
            "text/plain": [
              "<matplotlib.image.AxesImage at 0x7fddf67bf490>"
            ]
          },
          "metadata": {},
          "execution_count": 25
        },
        {
          "output_type": "display_data",
          "data": {
            "text/plain": [
              "<Figure size 432x288 with 1 Axes>"
            ],
            "image/png": "[encoded data removed]"
          },
          "metadata": {
            "needs_background": "light"
          }
        }
      ]
    },
    {
      "cell_type": "code",
      "source": [
        "vgg = VGG16(input_shape = IMAGE_SIZE_RGB, weights='imagenet', include_top = False)\n",
        "\n",
        "for layer in vgg.layers:\n",
        "  layer.trainable = Flatten\n",
        "\n",
        "x = Flatten()(vgg.output)\n",
        "prediction = Dense(len(folders), activation = 'softmax')(x)\n",
        "\n",
        "model = Model(inputs=vgg.input, outputs=prediction)"
      ],
      "metadata": {
        "colab": {
          "base_uri": "https://localhost:8080/"
        },
        "id": "TAQHXbMdzpHu",
        "outputId": "e240f086-aa31-42b0-9635-b4187868b728"
      },
      "execution_count": 27,
      "outputs": [
        {
          "output_type": "stream",
          "name": "stdout",
          "text": [
            "Downloading data from https://storage.googleapis.com/tensorflow/keras-applications/vgg16/vgg16_weights_tf_dim_ordering_tf_kernels_notop.h5\n",
            "58892288/58889256 [==============================] - 1s 0us/step\n",
            "58900480/58889256 [==============================] - 1s 0us/step\n"
          ]
        }
      ]
    },
    {
      "cell_type": "code",
      "source": [
        "model.summary()"
      ],
      "metadata": {
        "colab": {
          "base_uri": "https://localhost:8080/"
        },
        "id": "NpQRgHYH2ajf",
        "outputId": "8109b317-0624-4039-a175-0bab798b1c69"
      },
      "execution_count": 28,
      "outputs": [
        {
          "output_type": "stream",
          "name": "stdout",
          "text": [
            "Model: \"model\"\n",
            "_________________________________________________________________\n",
            " Layer (type)                Output Shape              Param #   \n",
            "=================================================================\n",
            " input_1 (InputLayer)        [(None, 100, 100, 3)]     0         \n",
            "                                                                 \n",
            " block1_conv1 (Conv2D)       (None, 100, 100, 64)      1792      \n",
            "                                                                 \n",
            " block1_conv2 (Conv2D)       (None, 100, 100, 64)      36928     \n",
            "                                                                 \n",
            " block1_pool (MaxPooling2D)  (None, 50, 50, 64)        0         \n",
            "                                                                 \n",
            " block2_conv1 (Conv2D)       (None, 50, 50, 128)       73856     \n",
            "                                                                 \n",
            " block2_conv2 (Conv2D)       (None, 50, 50, 128)       147584    \n",
            "                                                                 \n",
            " block2_pool (MaxPooling2D)  (None, 25, 25, 128)       0         \n",
            "                                                                 \n",
            " block3_conv1 (Conv2D)       (None, 25, 25, 256)       295168    \n",
            "                                                                 \n",
            " block3_conv2 (Conv2D)       (None, 25, 25, 256)       590080    \n",
            "                                                                 \n",
            " block3_conv3 (Conv2D)       (None, 25, 25, 256)       590080    \n",
            "                                                                 \n",
            " block3_pool (MaxPooling2D)  (None, 12, 12, 256)       0         \n",
            "                                                                 \n",
            " block4_conv1 (Conv2D)       (None, 12, 12, 512)       1180160   \n",
            "                                                                 \n",
            " block4_conv2 (Conv2D)       (None, 12, 12, 512)       2359808   \n",
            "                                                                 \n",
            " block4_conv3 (Conv2D)       (None, 12, 12, 512)       2359808   \n",
            "                                                                 \n",
            " block4_pool (MaxPooling2D)  (None, 6, 6, 512)         0         \n",
            "                                                                 \n",
            " block5_conv1 (Conv2D)       (None, 6, 6, 512)         2359808   \n",
            "                                                                 \n",
            " block5_conv2 (Conv2D)       (None, 6, 6, 512)         2359808   \n",
            "                                                                 \n",
            " block5_conv3 (Conv2D)       (None, 6, 6, 512)         2359808   \n",
            "                                                                 \n",
            " block5_pool (MaxPooling2D)  (None, 3, 3, 512)         0         \n",
            "                                                                 \n",
            " flatten (Flatten)           (None, 4608)              0         \n",
            "                                                                 \n",
            " dense (Dense)               (None, 8)                 36872     \n",
            "                                                                 \n",
            "=================================================================\n",
            "Total params: 14,751,560\n",
            "Trainable params: 14,751,560\n",
            "Non-trainable params: 0\n",
            "_________________________________________________________________\n"
          ]
        }
      ]
    },
    {
      "cell_type": "code",
      "source": [
        "model.compile(\n",
        "    loss = 'categorical_crossentropy',\n",
        "    optimizer = 'rmsprop',\n",
        "    metrics = ['accuracy']\n",
        ")"
      ],
      "metadata": {
        "id": "3e3itw_q2ctL"
      },
      "execution_count": 29,
      "outputs": []
    },
    {
      "cell_type": "code",
      "source": [
        "gen = ImageDataGenerator(\n",
        "    rotation_range = 20,\n",
        "    width_shift_range = .1,\n",
        "    height_shift_range = .1,\n",
        "    shear_range = .1,\n",
        "    zoom_range = .2,\n",
        "    horizontal_flip = True,\n",
        "    vertical_flip = True,\n",
        "    preprocessing_function = preprocess_input\n",
        ")"
      ],
      "metadata": {
        "id": "Gx8reQK0292V"
      },
      "execution_count": 30,
      "outputs": []
    },
    {
      "cell_type": "code",
      "source": [
        "test_gen = gen.flow_from_directory(test_path, target_size = IMAGE_SIZE)\n",
        "print(test_gen.class_indices)\n",
        "test_gen.class_indices.items()"
      ],
      "metadata": {
        "colab": {
          "base_uri": "https://localhost:8080/"
        },
        "id": "BFFZc9kg3kxb",
        "outputId": "599d4ac9-cc69-4311-c3b7-6793021405ab"
      },
      "execution_count": 32,
      "outputs": [
        {
          "output_type": "stream",
          "name": "stdout",
          "text": [
            "Found 1285 images belonging to 8 classes.\n",
            "{'Apple Golden 1': 0, 'Avocado': 1, 'Banana': 2, 'Kiwi': 3, 'Lemon': 4, 'Mango': 5, 'Raspberry': 6, 'Strawberry': 7}\n"
          ]
        },
        {
          "output_type": "execute_result",
          "data": {
            "text/plain": [
              "dict_items([('Apple Golden 1', 0), ('Avocado', 1), ('Banana', 2), ('Kiwi', 3), ('Lemon', 4), ('Mango', 5), ('Raspberry', 6), ('Strawberry', 7)])"
            ]
          },
          "metadata": {},
          "execution_count": 32
        }
      ]
    },
    {
      "cell_type": "code",
      "source": [
        "labels = [None] * len(test_gen.class_indices)\n",
        "for k, v in test_gen.class_indices.items():\n",
        "  labels[v] = k\n",
        "labels"
      ],
      "metadata": {
        "colab": {
          "base_uri": "https://localhost:8080/"
        },
        "id": "OWxCY5L64JnV",
        "outputId": "b9298d9f-ddfd-40e0-a67b-d6deef0c7c22"
      },
      "execution_count": 34,
      "outputs": [
        {
          "output_type": "execute_result",
          "data": {
            "text/plain": [
              "['Apple Golden 1',\n",
              " 'Avocado',\n",
              " 'Banana',\n",
              " 'Kiwi',\n",
              " 'Lemon',\n",
              " 'Mango',\n",
              " 'Raspberry',\n",
              " 'Strawberry']"
            ]
          },
          "metadata": {},
          "execution_count": 34
        }
      ]
    },
    {
      "cell_type": "code",
      "source": [
        "for x, y in test_gen:\n",
        "  print(f'Min value is {x[1].min()} and Max value is {x[1].max()}')\n",
        "  plt.title(labels[np.argmax(y[1])])\n",
        "  plt.imshow(x[1])\n",
        "  plt.show()\n",
        "  break"
      ],
      "metadata": {
        "colab": {
          "base_uri": "https://localhost:8080/",
          "height": 316
        },
        "id": "HkJVmasT4VSd",
        "outputId": "d36feb16-6a19-4fa1-96a2-92fd221adb91"
      },
      "execution_count": 39,
      "outputs": [
        {
          "output_type": "stream",
          "name": "stderr",
          "text": [
            "WARNING:matplotlib.image:Clipping input data to the valid range for imshow with RGB data ([0..1] for floats or [0..255] for integers).\n"
          ]
        },
        {
          "output_type": "stream",
          "name": "stdout",
          "text": [
            "Min value is -104.74066925048828 and Max value is 151.06100463867188\n"
          ]
        },
        {
          "output_type": "display_data",
          "data": {
            "text/plain": [
              "<Figure size 432x288 with 1 Axes>"
            ],
            "image/png": "[encoded data removed]"
          },
          "metadata": {
            "needs_background": "light"
          }
        }
      ]
    },
    {
      "cell_type": "code",
      "source": [
        "train_datagen = gen.flow_from_directory(\n",
        "    train_path,\n",
        "    shuffle = True,\n",
        "    target_size = IMAGE_SIZE,\n",
        "    batch_size = BATCH_SIZE\n",
        ")\n",
        "\n",
        "test_datagen = gen.flow_from_directory(\n",
        "    test_path,\n",
        "    shuffle = True,\n",
        "    target_size = IMAGE_SIZE,\n",
        "    batch_size = BATCH_SIZE\n",
        ")"
      ],
      "metadata": {
        "colab": {
          "base_uri": "https://localhost:8080/"
        },
        "id": "iBvikCva5coU",
        "outputId": "2cd01346-c884-4485-974a-6fb38ac5844e"
      },
      "execution_count": 41,
      "outputs": [
        {
          "output_type": "stream",
          "name": "stdout",
          "text": [
            "Found 3827 images belonging to 8 classes.\n",
            "Found 1285 images belonging to 8 classes.\n"
          ]
        }
      ]
    },
    {
      "cell_type": "code",
      "source": [
        "r = model.fit_generator(\n",
        "    train_datagen, \n",
        "    validation_data = test_datagen,\n",
        "    epochs = EPOCHS,\n",
        "    steps_per_epoch = len(training_image_files) // BATCH_SIZE,\n",
        "    validation_steps = len(test_image_files) // BATCH_SIZE\n",
        "    )"
      ],
      "metadata": {
        "colab": {
          "base_uri": "https://localhost:8080/"
        },
        "id": "_PttKQPc_OPS",
        "outputId": "3b69bab7-bd98-40bb-ec96-abd37d1f912c"
      },
      "execution_count": 43,
      "outputs": [
        {
          "output_type": "stream",
          "name": "stderr",
          "text": [
            "/usr/local/lib/python3.7/dist-packages/ipykernel_launcher.py:6: UserWarning: `Model.fit_generator` is deprecated and will be removed in a future version. Please use `Model.fit`, which supports generators.\n",
            "  \n"
          ]
        },
        {
          "output_type": "stream",
          "name": "stdout",
          "text": [
            "Epoch 1/5\n",
            "119/119 [==============================] - 1898s 16s/step - loss: 263.8493 - accuracy: 0.1989 - val_loss: 1.7985 - val_accuracy: 0.2219\n",
            "Epoch 2/5\n",
            "119/119 [==============================] - 1731s 15s/step - loss: 2.7521 - accuracy: 0.2640 - val_loss: 3.1304 - val_accuracy: 0.1781\n",
            "Epoch 3/5\n",
            "119/119 [==============================] - 1741s 15s/step - loss: 2.1064 - accuracy: 0.3903 - val_loss: 0.8697 - val_accuracy: 0.7016\n",
            "Epoch 4/5\n",
            "119/119 [==============================] - 1745s 15s/step - loss: 0.8460 - accuracy: 0.7652 - val_loss: 0.3248 - val_accuracy: 0.8617\n",
            "Epoch 5/5\n",
            "119/119 [==============================] - 1756s 15s/step - loss: 2.6450 - accuracy: 0.8253 - val_loss: 0.1842 - val_accuracy: 0.9289\n"
          ]
        }
      ]
    },
    {
      "cell_type": "code",
      "source": [
        "import itertools\n",
        "\n",
        "def get_confusion_matrix(path, N):\n",
        "  predictions = []\n",
        "  targets = []\n",
        "  i = 0\n",
        "  for x, y in gen.flow_from_directory(path, target_size = IMAGE_SIZE_RGB, shuffle = False, batch_size=BATCH_SIZE * 2):\n",
        "    i+=1\n",
        "    if not i%50:\n",
        "      print(i)\n",
        "    p = model.predict(x)\n",
        "    p = np.argmax(p, axis = 1)\n",
        "    y = np.argmax(y, axis = 1)\n",
        "    predictions = np.concatenate((predictions, p))\n",
        "    targets = np.concatenate((targets, y))\n",
        "    if len(targets) >= N:\n",
        "      break\n",
        "\n",
        "    cm = confusion_matrix(targets, predictions)\n",
        "    return cm\n",
        "\n",
        "\n",
        "def plot_confusion_matrix(cm, classes,\n",
        "                          normalize=False,\n",
        "                          title='Confusion matrix',\n",
        "                          cmap=plt.cm.Blues):\n",
        "\n",
        "  if normalize:\n",
        "      cm = cm.astype('float') / cm.sum(axis=1)[:, np.newaxis]\n",
        "      print(\"Normalized confusion matrix\")\n",
        "  else:\n",
        "      print('Confusion matrix, without normalization')\n",
        "\n",
        "  print(cm)\n",
        "\n",
        "  plt.imshow(cm, interpolation='nearest', cmap=cmap)\n",
        "  plt.title(title)\n",
        "  plt.colorbar()\n",
        "  tick_marks = np.arange(len(classes))\n",
        "  plt.xticks(tick_marks, classes, rotation=45)\n",
        "  plt.yticks(tick_marks, classes)\n",
        "\n",
        "  fmt = '.2f' if normalize else 'd'\n",
        "  thresh = cm.max() / 2.\n",
        "  for i, j in itertools.product(range(cm.shape[0]), range(cm.shape[1])):\n",
        "      plt.text(j, i, format(cm[i, j], fmt),\n",
        "               horizontalalignment=\"center\",\n",
        "               color=\"white\" if cm[i, j] > thresh else \"black\")\n",
        "\n",
        "  plt.tight_layout()\n",
        "  plt.ylabel('True label')\n",
        "  plt.xlabel('Predicted label')\n",
        "  plt.show()"
      ],
      "metadata": {
        "id": "1iqB4t2Q_wdp"
      },
      "execution_count": 44,
      "outputs": []
    },
    {
      "cell_type": "code",
      "source": [
        "plt.plot(r.history['loss'], label='train loss')\n",
        "plt.plot(r.history['val_loss'], label='val loss')\n",
        "plt.legend()\n",
        "plt.show()"
      ],
      "metadata": {
        "colab": {
          "base_uri": "https://localhost:8080/",
          "height": 265
        },
        "id": "maA1cs1xB2ei",
        "outputId": "3ed49ad3-3c48-4471-de5f-8d6cbbe1aa11"
      },
      "execution_count": 48,
      "outputs": [
        {
          "output_type": "display_data",
          "data": {
            "text/plain": [
              "<Figure size 432x288 with 1 Axes>"
            ],
            "image/png": "[encoded data removed]"
          },
          "metadata": {
            "needs_background": "light"
          }
        }
      ]
    },
    {
      "cell_type": "code",
      "source": [
        "plt.plot(r.history['accuracy'], label='train acc')\n",
        "plt.plot(r.history['val_accuracy'], label='val acc')\n",
        "plt.legend()\n",
        "plt.show()"
      ],
      "metadata": {
        "colab": {
          "base_uri": "https://localhost:8080/",
          "height": 265
        },
        "id": "UYJSqbd5B7vJ",
        "outputId": "fa6fa266-a93e-4283-e055-3fb1a7156c9c"
      },
      "execution_count": 49,
      "outputs": [
        {
          "output_type": "display_data",
          "data": {
            "text/plain": [
              "<Figure size 432x288 with 1 Axes>"
            ],
            "image/png": "[encoded data removed]"
          },
          "metadata": {
            "needs_background": "light"
          }
        }
      ]
    }
  ]
}