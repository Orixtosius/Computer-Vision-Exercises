{
  "nbformat": 4,
  "nbformat_minor": 0,
  "metadata": {
    "colab": {
      "name": "Mask",
      "provenance": [],
      "mount_file_id": "1cdOpSaaZM1cBRNhCOBt16KUZw_-utNrn",
      "authorship_tag": "ABX9TyNCBHvMGiIffbYRIiIf9M4f",
      "include_colab_link": true
    },
    "kernelspec": {
      "name": "python3",
      "display_name": "Python 3"
    },
    "language_info": {
      "name": "python"
    }
  },
  "cells": [
    {
      "cell_type": "markdown",
      "metadata": {
        "id": "view-in-github",
        "colab_type": "text"
      },
      "source": [
        "<a href=\"https://colab.research.google.com/github/Orixtosius/Computer-Vision-Exercises/blob/main/Mask.ipynb\" target=\"_parent\"><img src=\"https://colab.research.google.com/assets/colab-badge.svg\" alt=\"Open In Colab\"/></a>"
      ]
    },
    {
      "cell_type": "code",
      "execution_count": 2,
      "metadata": {
        "id": "YI8Xp1zcV0b-"
      },
      "outputs": [],
      "source": [
        "import os\n",
        "import numpy as np\n",
        "import tensorflow as tf\n",
        "import logging\n",
        "from tensorflow.keras import backend as K\n",
        "from tensorflow.keras.layers import Flatten\n",
        "from tensorflow.keras.utils import CustomObjectScope\n",
        "from tensorflow.keras.models import load_model\n",
        "import cv2\n",
        "from glob import glob\n",
        "from tqdm import tqdm"
      ]
    },
    {
      "cell_type": "code",
      "source": [
        "smooth = 1e-15\n",
        "\"\"\"\n",
        "y is for ground truth\n",
        "y_hat is for segmentation\n",
        "\n",
        "\"\"\"\n",
        "def iou(y, y_hat):\n",
        "  return tf.numpy_function(f, [y, y_hat], dtype = tf.float32)\n",
        "\n",
        "def f(y, y_hat):\n",
        "  \"\"\"\n",
        "  A ∩ B -> 0/1 so if y and y_hat are both 1, the result is 0.\n",
        "  Otherwise the result is 0\n",
        "\n",
        "  A U B = A + B - A ∩ B\n",
        "  \"\"\"\n",
        "  intersection = (y*y_hat).sum()\n",
        "  union = y.sum() + y_hat.sum() - intersection\n",
        "  res = -1\n",
        "  try:\n",
        "    res = intersection + smooth / union + smooth\n",
        "    res = res.astype(np.float32)\n",
        "  except ZeroDivisionError:\n",
        "    logging.warning('Zero Division Error.')\n",
        "  except:\n",
        "    logging.warning('Unexpected Error')\n",
        "  return res\n",
        "\n",
        "def dice_coef(y, y_hat):\n",
        "    y = Flatten()(y)\n",
        "    y_hat = Flatten()(y_hat)\n",
        "    intersection = tf.reduce_sum(y*y_hat)\n",
        "    union = tf.reduce_sum( tf.reduce_sum(y) + tf.reduce_sum(y_hat) + smooth)\n",
        "    return (2.0*intersection + smooth) / union\n",
        "\n",
        "def dice_loss(y, y_hat):\n",
        "    return 1.0 - dice_coef(y, y_hat)\n",
        "def create_directory(path):\n",
        "  if not os.path.exists(path):\n",
        "    os.makedirs(path)"
      ],
      "metadata": {
        "id": "JRhYVjSKYZxw"
      },
      "execution_count": 4,
      "outputs": []
    },
    {
      "cell_type": "code",
      "source": [
        "H, W = 512, 512 \n",
        "np.random.seed(10)\n",
        "tf.random.set_seed(10)"
      ],
      "metadata": {
        "id": "m4k-rNxNaslA"
      },
      "execution_count": 5,
      "outputs": []
    },
    {
      "cell_type": "code",
      "source": [
        "create_directory('images')"
      ],
      "metadata": {
        "id": "nRzC0kzwhTVn"
      },
      "execution_count": 6,
      "outputs": []
    },
    {
      "cell_type": "code",
      "source": [
        "create_directory('masks')"
      ],
      "metadata": {
        "id": "YXGP6Kj8y__E"
      },
      "execution_count": 9,
      "outputs": []
    },
    {
      "cell_type": "code",
      "source": [
        "create_directory('results')"
      ],
      "metadata": {
        "id": "b3qHNpei1Rbi"
      },
      "execution_count": 11,
      "outputs": []
    },
    {
      "cell_type": "code",
      "source": [
        "with CustomObjectScope({'iou' : iou, 'dice_coef' : dice_coef,\n",
        "                        'dice_loss' : dice_loss}):\n",
        "  model = load_model('/content/drive/MyDrive/Colab Exercises/model.h5')\n",
        "\n",
        "model.summary()"
      ],
      "metadata": {
        "id": "7BglssQjheXs"
      },
      "execution_count": null,
      "outputs": []
    },
    {
      "cell_type": "code",
      "source": [
        "!wget https://cdn03.ciceksepeti.com/cicek/at4273-1/L/11-li-kirmizi-gul-cicek-buketi-at4273-1-bf4868a0836d4c5898c8f8a1366ed969.jpg -O image3.png"
      ],
      "metadata": {
        "colab": {
          "base_uri": "https://localhost:8080/"
        },
        "id": "WRckprZCrVub",
        "outputId": "88ac3ae5-233d-4744-c0cb-22744493cc67"
      },
      "execution_count": 37,
      "outputs": [
        {
          "output_type": "stream",
          "name": "stdout",
          "text": [
            "--2022-08-18 07:10:38--  https://cdn03.ciceksepeti.com/cicek/at4273-1/L/11-li-kirmizi-gul-cicek-buketi-at4273-1-bf4868a0836d4c5898c8f8a1366ed969.jpg\n",
            "Resolving cdn03.ciceksepeti.com (cdn03.ciceksepeti.com)... 23.219.154.141, 23.219.154.133, 2600:1408:c400:68::17db:9a44, ...\n",
            "Connecting to cdn03.ciceksepeti.com (cdn03.ciceksepeti.com)|23.219.154.141|:443... connected.\n",
            "HTTP request sent, awaiting response... 200 OK\n",
            "Length: unspecified [image/jpeg]\n",
            "Saving to: ‘image3.png’\n",
            "\n",
            "image3.png              [ <=>                ]  56.01K  --.-KB/s    in 0.004s  \n",
            "\n",
            "2022-08-18 07:10:39 (13.3 MB/s) - ‘image3.png’ saved [57350]\n",
            "\n"
          ]
        }
      ]
    },
    {
      "cell_type": "code",
      "source": [
        "with CustomObjectScope({'iou' : iou, 'dice_coef' : dice_coef,\n",
        "                        'dice_loss' : dice_loss}):\n",
        "    model = load_model('/content/drive/MyDrive/Colab Exercises/model.h5')\n",
        "\n",
        "def mask(imagePath, model, imHeight, imWidth,\n",
        "         mask = [255.,255.,255.]):\n",
        "  create_directory('masks')\n",
        "  create_directory('results')\n",
        "\n",
        "  np.random.seed(10)\n",
        "  tf.random.set_seed(10)\n",
        "\n",
        "  data = glob(imagePath + '/*')\n",
        "  for p in tqdm(data, total = len(data)):\n",
        "    imName = p.split('/')[-1].split('.')[0]\n",
        "    image = cv2.imread(p, cv2.IMREAD_COLOR)\n",
        "    h, w, *r = image.shape \n",
        "    x = cv2.resize(image, (imWidth, imHeight))\n",
        "    x = x / 255.0\n",
        "    x = x.astype(np.float32)\n",
        "    x = np.expand_dims(x, axis = 0)\n",
        "  \n",
        "    y = model.predict(x)[0]\n",
        "    y = cv2.resize(y, (w,h))\n",
        "    y = np.expand_dims(y, axis = -1)\n",
        "    y = y > 0.5\n",
        "\n",
        "    cv2.imwrite(f'masks/{imName}_mask.png', y*255.0)\n",
        "\n",
        "    mask = y\n",
        "    b_mask = np.abs(1-y)\n",
        "\n",
        "    masked = mask*image\n",
        "    b_masked = np.concatenate([b_mask,b_mask,b_mask], axis = -1)\n",
        "    b_masked = b_masked * mask\n",
        "    f_image = masked + b_masked\n",
        "    cv2.imwrite(f'results/{imName}_masked.png', f_image)"
      ],
      "metadata": {
        "id": "jCKRGpFp98H7"
      },
      "execution_count": 18,
      "outputs": []
    },
    {
      "cell_type": "code",
      "source": [
        "ip = '/content/images'\n",
        "mask(ip, model, 512, 512)"
      ],
      "metadata": {
        "colab": {
          "base_uri": "https://localhost:8080/"
        },
        "id": "AyMtSJEK_EgA",
        "outputId": "8556fdfa-66e8-4681-8cee-edab6085844d"
      },
      "execution_count": 19,
      "outputs": [
        {
          "output_type": "stream",
          "name": "stderr",
          "text": [
            "\r  0%|          | 0/2 [00:00<?, ?it/s]"
          ]
        },
        {
          "output_type": "stream",
          "name": "stdout",
          "text": [
            "1/1 [==============================] - 4s 4s/step\n"
          ]
        },
        {
          "output_type": "stream",
          "name": "stderr",
          "text": [
            "\r 50%|█████     | 1/2 [00:03<00:03,  3.64s/it]"
          ]
        },
        {
          "output_type": "stream",
          "name": "stdout",
          "text": [
            "1/1 [==============================] - 2s 2s/step\n"
          ]
        },
        {
          "output_type": "stream",
          "name": "stderr",
          "text": [
            "100%|██████████| 2/2 [00:06<00:00,  3.14s/it]\n"
          ]
        }
      ]
    },
    {
      "cell_type": "code",
      "source": [
        "data = glob('images/*')\n",
        "\n",
        "for p in tqdm(data, total = len(data)):\n",
        "  imName = p.split('/')[-1].split('.')[0]\n",
        "  image = cv2.imread(p, cv2.IMREAD_COLOR)\n",
        "  h, w, *r = image.shape \n",
        "  x = cv2.resize(image, (W,H))\n",
        "  x = x / 255.0\n",
        "  x = x.astype(np.float32)\n",
        "  x = np.expand_dims(x, axis = 0)\n",
        "  \n",
        "  y = model.predict(x)[0]\n",
        "  y = cv2.resize(y, (w,h))\n",
        "  y = np.expand_dims(y, axis = -1)\n",
        "  #y = y > 0.5\n",
        "\n",
        "  cv2.imwrite(f'/content/masks/{imName}_mask.png', y*255.0)\n",
        "\n",
        "  mask = y\n",
        "  b_mask = np.abs(1-y)\n",
        "\n",
        "  masked = mask*image\n",
        "  b_masked = np.concatenate([b_mask,b_mask,b_mask], axis = -1)\n",
        "  b_masked = b_masked * [255.,255.,255.]\n",
        "  f_image = masked + b_masked\n",
        "  cv2.imwrite(f'/content/results/{imName}_masked.png', f_image)"
      ],
      "metadata": {
        "colab": {
          "base_uri": "https://localhost:8080/"
        },
        "id": "R6kGYot9iTFn",
        "outputId": "71a3a3d2-26f0-46f4-f518-7727c84ade76"
      },
      "execution_count": 15,
      "outputs": [
        {
          "output_type": "stream",
          "name": "stderr",
          "text": [
            "\r  0%|          | 0/2 [00:00<?, ?it/s]"
          ]
        },
        {
          "output_type": "stream",
          "name": "stdout",
          "text": [
            "1/1 [==============================] - 2s 2s/step\n"
          ]
        },
        {
          "output_type": "stream",
          "name": "stderr",
          "text": [
            "\r 50%|█████     | 1/2 [00:02<00:02,  2.65s/it]"
          ]
        },
        {
          "output_type": "stream",
          "name": "stdout",
          "text": [
            "1/1 [==============================] - 2s 2s/step\n"
          ]
        },
        {
          "output_type": "stream",
          "name": "stderr",
          "text": [
            "100%|██████████| 2/2 [00:05<00:00,  2.64s/it]\n"
          ]
        }
      ]
    },
    {
      "cell_type": "code",
      "source": [
        ""
      ],
      "metadata": {
        "id": "dneYR_25s7lI"
      },
      "execution_count": null,
      "outputs": []
    }
  ]
}